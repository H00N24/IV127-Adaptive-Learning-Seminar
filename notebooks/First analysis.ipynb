{
 "cells": [
  {
   "cell_type": "code",
   "execution_count": 1,
   "metadata": {},
   "outputs": [
    {
     "data": {
      "application/javascript": [
       "\n",
       "            setTimeout(function() {\n",
       "                var nbb_cell_id = 1;\n",
       "                var nbb_unformatted_code = \"%load_ext nb_black\";\n",
       "                var nbb_formatted_code = \"%load_ext nb_black\";\n",
       "                var nbb_cells = Jupyter.notebook.get_cells();\n",
       "                for (var i = 0; i < nbb_cells.length; ++i) {\n",
       "                    if (nbb_cells[i].input_prompt_number == nbb_cell_id) {\n",
       "                        if (nbb_cells[i].get_text() == nbb_unformatted_code) {\n",
       "                             nbb_cells[i].set_text(nbb_formatted_code);\n",
       "                        }\n",
       "                        break;\n",
       "                    }\n",
       "                }\n",
       "            }, 500);\n",
       "            "
      ],
      "text/plain": [
       "<IPython.core.display.Javascript object>"
      ]
     },
     "metadata": {},
     "output_type": "display_data"
    }
   ],
   "source": [
    "%load_ext nb_black"
   ]
  },
  {
   "cell_type": "code",
   "execution_count": 2,
   "metadata": {},
   "outputs": [
    {
     "data": {
      "application/javascript": [
       "\n",
       "            setTimeout(function() {\n",
       "                var nbb_cell_id = 2;\n",
       "                var nbb_unformatted_code = \"import ast\\n\\nfrom base64 import b64decode\\nfrom collections import Counter\\n\\nimport numpy as np\\nimport pandas as pd\\n\\nimport matplotlib.pyplot as plt\\nimport seaborn as sns\";\n",
       "                var nbb_formatted_code = \"import ast\\n\\nfrom base64 import b64decode\\nfrom collections import Counter\\n\\nimport numpy as np\\nimport pandas as pd\\n\\nimport matplotlib.pyplot as plt\\nimport seaborn as sns\";\n",
       "                var nbb_cells = Jupyter.notebook.get_cells();\n",
       "                for (var i = 0; i < nbb_cells.length; ++i) {\n",
       "                    if (nbb_cells[i].input_prompt_number == nbb_cell_id) {\n",
       "                        if (nbb_cells[i].get_text() == nbb_unformatted_code) {\n",
       "                             nbb_cells[i].set_text(nbb_formatted_code);\n",
       "                        }\n",
       "                        break;\n",
       "                    }\n",
       "                }\n",
       "            }, 500);\n",
       "            "
      ],
      "text/plain": [
       "<IPython.core.display.Javascript object>"
      ]
     },
     "metadata": {},
     "output_type": "display_data"
    }
   ],
   "source": [
    "import ast\n",
    "\n",
    "from base64 import b64decode\n",
    "from collections import Counter\n",
    "\n",
    "import numpy as np\n",
    "import pandas as pd\n",
    "\n",
    "import matplotlib.pyplot as plt\n",
    "import seaborn as sns"
   ]
  },
  {
   "cell_type": "code",
   "execution_count": 3,
   "metadata": {},
   "outputs": [
    {
     "data": {
      "application/javascript": [
       "\n",
       "            setTimeout(function() {\n",
       "                var nbb_cell_id = 3;\n",
       "                var nbb_unformatted_code = \"np.random.seed(42)\";\n",
       "                var nbb_formatted_code = \"np.random.seed(42)\";\n",
       "                var nbb_cells = Jupyter.notebook.get_cells();\n",
       "                for (var i = 0; i < nbb_cells.length; ++i) {\n",
       "                    if (nbb_cells[i].input_prompt_number == nbb_cell_id) {\n",
       "                        if (nbb_cells[i].get_text() == nbb_unformatted_code) {\n",
       "                             nbb_cells[i].set_text(nbb_formatted_code);\n",
       "                        }\n",
       "                        break;\n",
       "                    }\n",
       "                }\n",
       "            }, 500);\n",
       "            "
      ],
      "text/plain": [
       "<IPython.core.display.Javascript object>"
      ]
     },
     "metadata": {},
     "output_type": "display_data"
    }
   ],
   "source": [
    "np.random.seed(42)"
   ]
  },
  {
   "cell_type": "code",
   "execution_count": 4,
   "metadata": {},
   "outputs": [
    {
     "name": "stdout",
     "output_type": "stream",
     "text": [
      "umimeprogramovatcz-ipython_item.csv\t umimeprogramovatcz-ipython_log.csv\r\n",
      "umimeprogramovatcz-ipython_item_log.csv\r\n"
     ]
    },
    {
     "data": {
      "application/javascript": [
       "\n",
       "            setTimeout(function() {\n",
       "                var nbb_cell_id = 4;\n",
       "                var nbb_unformatted_code = \"!ls ../data\";\n",
       "                var nbb_formatted_code = \"!ls ../data\";\n",
       "                var nbb_cells = Jupyter.notebook.get_cells();\n",
       "                for (var i = 0; i < nbb_cells.length; ++i) {\n",
       "                    if (nbb_cells[i].input_prompt_number == nbb_cell_id) {\n",
       "                        if (nbb_cells[i].get_text() == nbb_unformatted_code) {\n",
       "                             nbb_cells[i].set_text(nbb_formatted_code);\n",
       "                        }\n",
       "                        break;\n",
       "                    }\n",
       "                }\n",
       "            }, 500);\n",
       "            "
      ],
      "text/plain": [
       "<IPython.core.display.Javascript object>"
      ]
     },
     "metadata": {},
     "output_type": "display_data"
    }
   ],
   "source": [
    "!ls ../data"
   ]
  },
  {
   "cell_type": "code",
   "execution_count": 5,
   "metadata": {},
   "outputs": [
    {
     "data": {
      "application/javascript": [
       "\n",
       "            setTimeout(function() {\n",
       "                var nbb_cell_id = 5;\n",
       "                var nbb_unformatted_code = \"ip_log_frame = pd.read_csv(\\\"../data/umimeprogramovatcz-ipython_log.csv\\\", sep=\\\";\\\")\\nip_item_frame = pd.read_csv(\\\"../data/umimeprogramovatcz-ipython_item.csv\\\", sep=\\\";\\\")\\nip_item_log_frame = pd.read_csv(\\n    \\\"../data/umimeprogramovatcz-ipython_item_log.csv\\\", sep=\\\";\\\"\\n)\";\n",
       "                var nbb_formatted_code = \"ip_log_frame = pd.read_csv(\\\"../data/umimeprogramovatcz-ipython_log.csv\\\", sep=\\\";\\\")\\nip_item_frame = pd.read_csv(\\\"../data/umimeprogramovatcz-ipython_item.csv\\\", sep=\\\";\\\")\\nip_item_log_frame = pd.read_csv(\\n    \\\"../data/umimeprogramovatcz-ipython_item_log.csv\\\", sep=\\\";\\\"\\n)\";\n",
       "                var nbb_cells = Jupyter.notebook.get_cells();\n",
       "                for (var i = 0; i < nbb_cells.length; ++i) {\n",
       "                    if (nbb_cells[i].input_prompt_number == nbb_cell_id) {\n",
       "                        if (nbb_cells[i].get_text() == nbb_unformatted_code) {\n",
       "                             nbb_cells[i].set_text(nbb_formatted_code);\n",
       "                        }\n",
       "                        break;\n",
       "                    }\n",
       "                }\n",
       "            }, 500);\n",
       "            "
      ],
      "text/plain": [
       "<IPython.core.display.Javascript object>"
      ]
     },
     "metadata": {},
     "output_type": "display_data"
    }
   ],
   "source": [
    "ip_log_frame = pd.read_csv(\"../data/umimeprogramovatcz-ipython_log.csv\", sep=\";\")\n",
    "ip_item_frame = pd.read_csv(\"../data/umimeprogramovatcz-ipython_item.csv\", sep=\";\")\n",
    "ip_item_log_frame = pd.read_csv(\n",
    "    \"../data/umimeprogramovatcz-ipython_item_log.csv\", sep=\";\"\n",
    ")"
   ]
  },
  {
   "cell_type": "code",
   "execution_count": 6,
   "metadata": {},
   "outputs": [
    {
     "data": {
      "text/plain": [
       "((43615, 8), (74, 11), (4164, 7))"
      ]
     },
     "execution_count": 6,
     "metadata": {},
     "output_type": "execute_result"
    },
    {
     "data": {
      "application/javascript": [
       "\n",
       "            setTimeout(function() {\n",
       "                var nbb_cell_id = 6;\n",
       "                var nbb_unformatted_code = \"ip_log_frame.shape, ip_item_frame.shape, ip_item_log_frame.shape\";\n",
       "                var nbb_formatted_code = \"ip_log_frame.shape, ip_item_frame.shape, ip_item_log_frame.shape\";\n",
       "                var nbb_cells = Jupyter.notebook.get_cells();\n",
       "                for (var i = 0; i < nbb_cells.length; ++i) {\n",
       "                    if (nbb_cells[i].input_prompt_number == nbb_cell_id) {\n",
       "                        if (nbb_cells[i].get_text() == nbb_unformatted_code) {\n",
       "                             nbb_cells[i].set_text(nbb_formatted_code);\n",
       "                        }\n",
       "                        break;\n",
       "                    }\n",
       "                }\n",
       "            }, 500);\n",
       "            "
      ],
      "text/plain": [
       "<IPython.core.display.Javascript object>"
      ]
     },
     "metadata": {},
     "output_type": "display_data"
    }
   ],
   "source": [
    "ip_log_frame.shape, ip_item_frame.shape, ip_item_log_frame.shape"
   ]
  },
  {
   "cell_type": "code",
   "execution_count": 7,
   "metadata": {},
   "outputs": [
    {
     "data": {
      "text/html": [
       "<div>\n",
       "<style scoped>\n",
       "    .dataframe tbody tr th:only-of-type {\n",
       "        vertical-align: middle;\n",
       "    }\n",
       "\n",
       "    .dataframe tbody tr th {\n",
       "        vertical-align: top;\n",
       "    }\n",
       "\n",
       "    .dataframe thead th {\n",
       "        text-align: right;\n",
       "    }\n",
       "</style>\n",
       "<table border=\"1\" class=\"dataframe\">\n",
       "  <thead>\n",
       "    <tr style=\"text-align: right;\">\n",
       "      <th></th>\n",
       "      <th>id</th>\n",
       "      <th>user</th>\n",
       "      <th>item</th>\n",
       "      <th>answer</th>\n",
       "      <th>correct</th>\n",
       "      <th>moves</th>\n",
       "      <th>responseTime</th>\n",
       "      <th>time</th>\n",
       "    </tr>\n",
       "  </thead>\n",
       "  <tbody>\n",
       "    <tr>\n",
       "      <th>0</th>\n",
       "      <td>1</td>\n",
       "      <td>5622</td>\n",
       "      <td>1</td>\n",
       "      <td>def numbers(n):break    print(n)break</td>\n",
       "      <td>0</td>\n",
       "      <td>-1</td>\n",
       "      <td>4750</td>\n",
       "      <td>2017-11-21 18:33:24</td>\n",
       "    </tr>\n",
       "    <tr>\n",
       "      <th>1</th>\n",
       "      <td>2</td>\n",
       "      <td>5622</td>\n",
       "      <td>1</td>\n",
       "      <td>def numbers(n):break    print(n)break</td>\n",
       "      <td>0</td>\n",
       "      <td>-1</td>\n",
       "      <td>34700</td>\n",
       "      <td>2017-11-21 18:43:09</td>\n",
       "    </tr>\n",
       "    <tr>\n",
       "      <th>2</th>\n",
       "      <td>3</td>\n",
       "      <td>12</td>\n",
       "      <td>1</td>\n",
       "      <td>def numbers(n):break    print(n)break</td>\n",
       "      <td>0</td>\n",
       "      <td>-1</td>\n",
       "      <td>6400</td>\n",
       "      <td>2017-11-21 19:50:17</td>\n",
       "    </tr>\n",
       "    <tr>\n",
       "      <th>3</th>\n",
       "      <td>4</td>\n",
       "      <td>12</td>\n",
       "      <td>1</td>\n",
       "      <td>def numbers(n):break    print(n)break</td>\n",
       "      <td>0</td>\n",
       "      <td>-1</td>\n",
       "      <td>9500</td>\n",
       "      <td>2017-11-21 19:50:20</td>\n",
       "    </tr>\n",
       "    <tr>\n",
       "      <th>4</th>\n",
       "      <td>5</td>\n",
       "      <td>12</td>\n",
       "      <td>1</td>\n",
       "      <td>def numbers(n):break    print(1)break    print...</td>\n",
       "      <td>0</td>\n",
       "      <td>-1</td>\n",
       "      <td>42150</td>\n",
       "      <td>2017-11-21 19:50:53</td>\n",
       "    </tr>\n",
       "  </tbody>\n",
       "</table>\n",
       "</div>"
      ],
      "text/plain": [
       "   id  user  item                                             answer  correct  \\\n",
       "0   1  5622     1              def numbers(n):break    print(n)break        0   \n",
       "1   2  5622     1              def numbers(n):break    print(n)break        0   \n",
       "2   3    12     1              def numbers(n):break    print(n)break        0   \n",
       "3   4    12     1              def numbers(n):break    print(n)break        0   \n",
       "4   5    12     1  def numbers(n):break    print(1)break    print...        0   \n",
       "\n",
       "   moves  responseTime                 time  \n",
       "0     -1          4750  2017-11-21 18:33:24  \n",
       "1     -1         34700  2017-11-21 18:43:09  \n",
       "2     -1          6400  2017-11-21 19:50:17  \n",
       "3     -1          9500  2017-11-21 19:50:20  \n",
       "4     -1         42150  2017-11-21 19:50:53  "
      ]
     },
     "execution_count": 7,
     "metadata": {},
     "output_type": "execute_result"
    },
    {
     "data": {
      "application/javascript": [
       "\n",
       "            setTimeout(function() {\n",
       "                var nbb_cell_id = 7;\n",
       "                var nbb_unformatted_code = \"ip_log_frame.head()\";\n",
       "                var nbb_formatted_code = \"ip_log_frame.head()\";\n",
       "                var nbb_cells = Jupyter.notebook.get_cells();\n",
       "                for (var i = 0; i < nbb_cells.length; ++i) {\n",
       "                    if (nbb_cells[i].input_prompt_number == nbb_cell_id) {\n",
       "                        if (nbb_cells[i].get_text() == nbb_unformatted_code) {\n",
       "                             nbb_cells[i].set_text(nbb_formatted_code);\n",
       "                        }\n",
       "                        break;\n",
       "                    }\n",
       "                }\n",
       "            }, 500);\n",
       "            "
      ],
      "text/plain": [
       "<IPython.core.display.Javascript object>"
      ]
     },
     "metadata": {},
     "output_type": "display_data"
    }
   ],
   "source": [
    "ip_log_frame.head()"
   ]
  },
  {
   "cell_type": "code",
   "execution_count": 8,
   "metadata": {},
   "outputs": [
    {
     "data": {
      "text/plain": [
       "'[[\"html\",\"Napište funkci <b>print_sums(n)</b>, která vypíše všechny způsoby, jak jde zadané číslo <i>n</i> vyjádřit jako součet dvou přirozených čísel.\"]]'"
      ]
     },
     "execution_count": 8,
     "metadata": {},
     "output_type": "execute_result"
    },
    {
     "data": {
      "application/javascript": [
       "\n",
       "            setTimeout(function() {\n",
       "                var nbb_cell_id = 8;\n",
       "                var nbb_unformatted_code = \"ip_item_frame.set_index(\\\"id\\\").loc[45].instructions\";\n",
       "                var nbb_formatted_code = \"ip_item_frame.set_index(\\\"id\\\").loc[45].instructions\";\n",
       "                var nbb_cells = Jupyter.notebook.get_cells();\n",
       "                for (var i = 0; i < nbb_cells.length; ++i) {\n",
       "                    if (nbb_cells[i].input_prompt_number == nbb_cell_id) {\n",
       "                        if (nbb_cells[i].get_text() == nbb_unformatted_code) {\n",
       "                             nbb_cells[i].set_text(nbb_formatted_code);\n",
       "                        }\n",
       "                        break;\n",
       "                    }\n",
       "                }\n",
       "            }, 500);\n",
       "            "
      ],
      "text/plain": [
       "<IPython.core.display.Javascript object>"
      ]
     },
     "metadata": {},
     "output_type": "display_data"
    }
   ],
   "source": [
    "ip_item_frame.set_index(\"id\").loc[45].instructions"
   ]
  },
  {
   "cell_type": "code",
   "execution_count": 9,
   "metadata": {},
   "outputs": [
    {
     "data": {
      "text/html": [
       "<div>\n",
       "<style scoped>\n",
       "    .dataframe tbody tr th:only-of-type {\n",
       "        vertical-align: middle;\n",
       "    }\n",
       "\n",
       "    .dataframe tbody tr th {\n",
       "        vertical-align: top;\n",
       "    }\n",
       "\n",
       "    .dataframe thead th {\n",
       "        text-align: right;\n",
       "    }\n",
       "</style>\n",
       "<table border=\"1\" class=\"dataframe\">\n",
       "  <thead>\n",
       "    <tr style=\"text-align: right;\">\n",
       "      <th></th>\n",
       "      <th>id</th>\n",
       "      <th>user</th>\n",
       "      <th>item</th>\n",
       "      <th>solved</th>\n",
       "      <th>responseTime</th>\n",
       "      <th>firstMastered</th>\n",
       "      <th>lastMastered</th>\n",
       "    </tr>\n",
       "  </thead>\n",
       "  <tbody>\n",
       "    <tr>\n",
       "      <th>0</th>\n",
       "      <td>1</td>\n",
       "      <td>5622</td>\n",
       "      <td>1</td>\n",
       "      <td>0</td>\n",
       "      <td>4750</td>\n",
       "      <td>0000-00-00 00:00:00</td>\n",
       "      <td>0000-00-00 00:00:00</td>\n",
       "    </tr>\n",
       "    <tr>\n",
       "      <th>1</th>\n",
       "      <td>2</td>\n",
       "      <td>12</td>\n",
       "      <td>1</td>\n",
       "      <td>1</td>\n",
       "      <td>69050</td>\n",
       "      <td>2017-11-21 19:51:13</td>\n",
       "      <td>2017-11-21 19:51:13</td>\n",
       "    </tr>\n",
       "    <tr>\n",
       "      <th>2</th>\n",
       "      <td>3</td>\n",
       "      <td>1383430</td>\n",
       "      <td>1</td>\n",
       "      <td>1</td>\n",
       "      <td>179900</td>\n",
       "      <td>2017-11-22 18:33:36</td>\n",
       "      <td>2017-11-22 19:14:24</td>\n",
       "    </tr>\n",
       "    <tr>\n",
       "      <th>3</th>\n",
       "      <td>4</td>\n",
       "      <td>1383430</td>\n",
       "      <td>4</td>\n",
       "      <td>0</td>\n",
       "      <td>31500</td>\n",
       "      <td>0000-00-00 00:00:00</td>\n",
       "      <td>0000-00-00 00:00:00</td>\n",
       "    </tr>\n",
       "    <tr>\n",
       "      <th>4</th>\n",
       "      <td>5</td>\n",
       "      <td>12</td>\n",
       "      <td>3</td>\n",
       "      <td>1</td>\n",
       "      <td>334300</td>\n",
       "      <td>2017-11-21 20:09:29</td>\n",
       "      <td>2017-11-21 20:09:29</td>\n",
       "    </tr>\n",
       "  </tbody>\n",
       "</table>\n",
       "</div>"
      ],
      "text/plain": [
       "   id     user  item  solved  responseTime        firstMastered  \\\n",
       "0   1     5622     1       0          4750  0000-00-00 00:00:00   \n",
       "1   2       12     1       1         69050  2017-11-21 19:51:13   \n",
       "2   3  1383430     1       1        179900  2017-11-22 18:33:36   \n",
       "3   4  1383430     4       0         31500  0000-00-00 00:00:00   \n",
       "4   5       12     3       1        334300  2017-11-21 20:09:29   \n",
       "\n",
       "          lastMastered  \n",
       "0  0000-00-00 00:00:00  \n",
       "1  2017-11-21 19:51:13  \n",
       "2  2017-11-22 19:14:24  \n",
       "3  0000-00-00 00:00:00  \n",
       "4  2017-11-21 20:09:29  "
      ]
     },
     "execution_count": 9,
     "metadata": {},
     "output_type": "execute_result"
    },
    {
     "data": {
      "application/javascript": [
       "\n",
       "            setTimeout(function() {\n",
       "                var nbb_cell_id = 9;\n",
       "                var nbb_unformatted_code = \"ip_item_log_frame.head()\";\n",
       "                var nbb_formatted_code = \"ip_item_log_frame.head()\";\n",
       "                var nbb_cells = Jupyter.notebook.get_cells();\n",
       "                for (var i = 0; i < nbb_cells.length; ++i) {\n",
       "                    if (nbb_cells[i].input_prompt_number == nbb_cell_id) {\n",
       "                        if (nbb_cells[i].get_text() == nbb_unformatted_code) {\n",
       "                             nbb_cells[i].set_text(nbb_formatted_code);\n",
       "                        }\n",
       "                        break;\n",
       "                    }\n",
       "                }\n",
       "            }, 500);\n",
       "            "
      ],
      "text/plain": [
       "<IPython.core.display.Javascript object>"
      ]
     },
     "metadata": {},
     "output_type": "display_data"
    }
   ],
   "source": [
    "ip_item_log_frame.head()"
   ]
  },
  {
   "cell_type": "code",
   "execution_count": 10,
   "metadata": {
    "scrolled": false
   },
   "outputs": [
    {
     "data": {
      "image/png": "[encoded data removed]",
      "text/plain": [
       "<Figure size 1080x720 with 1 Axes>"
      ]
     },
     "metadata": {
      "needs_background": "light"
     },
     "output_type": "display_data"
    },
    {
     "data": {
      "application/javascript": [
       "\n",
       "            setTimeout(function() {\n",
       "                var nbb_cell_id = 10;\n",
       "                var nbb_unformatted_code = \"ip_item_log_frame.groupby(\\\"item\\\").sum().reset_index()[[\\\"item\\\", \\\"solved\\\"]].plot.bar(\\n    x=\\\"item\\\", y=\\\"solved\\\", figsize=(15, 10)\\n)\\nplt.show()\";\n",
       "                var nbb_formatted_code = \"ip_item_log_frame.groupby(\\\"item\\\").sum().reset_index()[[\\\"item\\\", \\\"solved\\\"]].plot.bar(\\n    x=\\\"item\\\", y=\\\"solved\\\", figsize=(15, 10)\\n)\\nplt.show()\";\n",
       "                var nbb_cells = Jupyter.notebook.get_cells();\n",
       "                for (var i = 0; i < nbb_cells.length; ++i) {\n",
       "                    if (nbb_cells[i].input_prompt_number == nbb_cell_id) {\n",
       "                        if (nbb_cells[i].get_text() == nbb_unformatted_code) {\n",
       "                             nbb_cells[i].set_text(nbb_formatted_code);\n",
       "                        }\n",
       "                        break;\n",
       "                    }\n",
       "                }\n",
       "            }, 500);\n",
       "            "
      ],
      "text/plain": [
       "<IPython.core.display.Javascript object>"
      ]
     },
     "metadata": {},
     "output_type": "display_data"
    }
   ],
   "source": [
    "ip_item_log_frame.groupby(\"item\").sum().reset_index()[[\"item\", \"solved\"]].plot.bar(\n",
    "    x=\"item\", y=\"solved\", figsize=(15, 10)\n",
    ")\n",
    "plt.show()"
   ]
  },
  {
   "cell_type": "code",
   "execution_count": 11,
   "metadata": {},
   "outputs": [
    {
     "data": {
      "image/png": "[encoded data removed]",
      "text/plain": [
       "<Figure size 1440x720 with 1 Axes>"
      ]
     },
     "metadata": {
      "needs_background": "light"
     },
     "output_type": "display_data"
    },
    {
     "data": {
      "application/javascript": [
       "\n",
       "            setTimeout(function() {\n",
       "                var nbb_cell_id = 11;\n",
       "                var nbb_unformatted_code = \"tmp = ip_item_log_frame[[\\\"item\\\", \\\"solved\\\"]].groupby(\\\"item\\\").sum()\\ntmp[\\\"unsolved\\\"] = ip_item_log_frame.item.value_counts().sort_index()\\ntmp.plot.bar(rot=0, figsize=(20, 10))\\nplt.show()\";\n",
       "                var nbb_formatted_code = \"tmp = ip_item_log_frame[[\\\"item\\\", \\\"solved\\\"]].groupby(\\\"item\\\").sum()\\ntmp[\\\"unsolved\\\"] = ip_item_log_frame.item.value_counts().sort_index()\\ntmp.plot.bar(rot=0, figsize=(20, 10))\\nplt.show()\";\n",
       "                var nbb_cells = Jupyter.notebook.get_cells();\n",
       "                for (var i = 0; i < nbb_cells.length; ++i) {\n",
       "                    if (nbb_cells[i].input_prompt_number == nbb_cell_id) {\n",
       "                        if (nbb_cells[i].get_text() == nbb_unformatted_code) {\n",
       "                             nbb_cells[i].set_text(nbb_formatted_code);\n",
       "                        }\n",
       "                        break;\n",
       "                    }\n",
       "                }\n",
       "            }, 500);\n",
       "            "
      ],
      "text/plain": [
       "<IPython.core.display.Javascript object>"
      ]
     },
     "metadata": {},
     "output_type": "display_data"
    }
   ],
   "source": [
    "tmp = ip_item_log_frame[[\"item\", \"solved\"]].groupby(\"item\").sum()\n",
    "tmp[\"unsolved\"] = ip_item_log_frame.item.value_counts().sort_index()\n",
    "tmp.plot.bar(rot=0, figsize=(20, 10))\n",
    "plt.show()"
   ]
  },
  {
   "cell_type": "code",
   "execution_count": 12,
   "metadata": {},
   "outputs": [
    {
     "data": {
      "text/html": [
       "<div>\n",
       "<style scoped>\n",
       "    .dataframe tbody tr th:only-of-type {\n",
       "        vertical-align: middle;\n",
       "    }\n",
       "\n",
       "    .dataframe tbody tr th {\n",
       "        vertical-align: top;\n",
       "    }\n",
       "\n",
       "    .dataframe thead th {\n",
       "        text-align: right;\n",
       "    }\n",
       "</style>\n",
       "<table border=\"1\" class=\"dataframe\">\n",
       "  <thead>\n",
       "    <tr style=\"text-align: right;\">\n",
       "      <th></th>\n",
       "      <th>id</th>\n",
       "      <th>user</th>\n",
       "      <th>item</th>\n",
       "      <th>answer</th>\n",
       "      <th>correct</th>\n",
       "      <th>moves</th>\n",
       "      <th>responseTime</th>\n",
       "      <th>time</th>\n",
       "    </tr>\n",
       "  </thead>\n",
       "  <tbody>\n",
       "    <tr>\n",
       "      <th>9354</th>\n",
       "      <td>17718</td>\n",
       "      <td>3456977</td>\n",
       "      <td>17</td>\n",
       "      <td>ZGVmIGZpdmVfbXVsdGlwbGVzKDUsIDI1LCAzNSk6CiAgIC...</td>\n",
       "      <td>0</td>\n",
       "      <td>-1</td>\n",
       "      <td>95350</td>\n",
       "      <td>2018-12-04 18:46:58</td>\n",
       "    </tr>\n",
       "    <tr>\n",
       "      <th>14470</th>\n",
       "      <td>29463</td>\n",
       "      <td>4306827</td>\n",
       "      <td>34</td>\n",
       "      <td>ZGVmIG11bHRpcGxlcyhuKToKICAgIHByaW50KCJEdm9qbm...</td>\n",
       "      <td>1</td>\n",
       "      <td>-1</td>\n",
       "      <td>76000</td>\n",
       "      <td>2019-02-07 08:40:18</td>\n",
       "    </tr>\n",
       "    <tr>\n",
       "      <th>19527</th>\n",
       "      <td>38069</td>\n",
       "      <td>4152177</td>\n",
       "      <td>41</td>\n",
       "      <td>ZGVmIG5pY2UoYSwgYik6CmlmIGEgJSAyID09IDA6CiAgIC...</td>\n",
       "      <td>0</td>\n",
       "      <td>-1</td>\n",
       "      <td>217850</td>\n",
       "      <td>2019-05-02 20:00:05</td>\n",
       "    </tr>\n",
       "    <tr>\n",
       "      <th>2304</th>\n",
       "      <td>6491</td>\n",
       "      <td>359254</td>\n",
       "      <td>54</td>\n",
       "      <td>ZGVmIGNvbXBhcmUoYSwgYik6CiAgICBwcmludCgiNyBqZS...</td>\n",
       "      <td>0</td>\n",
       "      <td>-1</td>\n",
       "      <td>60700</td>\n",
       "      <td>2018-05-03 08:47:36</td>\n",
       "    </tr>\n",
       "    <tr>\n",
       "      <th>42681</th>\n",
       "      <td>63966</td>\n",
       "      <td>791389</td>\n",
       "      <td>35</td>\n",
       "      <td>ZGVmIHNlcXVlbmNlcyhuKToKICAgIGZvciBpIGluIHJhbm...</td>\n",
       "      <td>1</td>\n",
       "      <td>-1</td>\n",
       "      <td>108400</td>\n",
       "      <td>2020-02-19 09:47:07</td>\n",
       "    </tr>\n",
       "    <tr>\n",
       "      <th>17795</th>\n",
       "      <td>34846</td>\n",
       "      <td>5067965</td>\n",
       "      <td>50</td>\n",
       "      <td>ZGVmIGNyb3NzKHopOgogICAgcHJpbnQoeiwgIiAiLCB6KQ...</td>\n",
       "      <td>1</td>\n",
       "      <td>-1</td>\n",
       "      <td>116200</td>\n",
       "      <td>2019-04-02 17:51:22</td>\n",
       "    </tr>\n",
       "    <tr>\n",
       "      <th>41060</th>\n",
       "      <td>62345</td>\n",
       "      <td>13309857</td>\n",
       "      <td>64</td>\n",
       "      <td>ZGVmIG1hZ2ljX3Rlc3QodGVhcnMsIGhvcm5zLCB0YWlscy...</td>\n",
       "      <td>1</td>\n",
       "      <td>-1</td>\n",
       "      <td>135550</td>\n",
       "      <td>2020-01-30 13:43:49</td>\n",
       "    </tr>\n",
       "    <tr>\n",
       "      <th>22177</th>\n",
       "      <td>42058</td>\n",
       "      <td>7752559</td>\n",
       "      <td>51</td>\n",
       "      <td>ZGVmIGJtaShoZWlnaHQsIHdlaWdodCk6CiAgICBpbmRleD...</td>\n",
       "      <td>0</td>\n",
       "      <td>-1</td>\n",
       "      <td>1137150</td>\n",
       "      <td>2019-06-12 12:04:09</td>\n",
       "    </tr>\n",
       "    <tr>\n",
       "      <th>25182</th>\n",
       "      <td>46467</td>\n",
       "      <td>11045528</td>\n",
       "      <td>34</td>\n",
       "      <td>ZGVmIG11bHRpcGxlcyhuKToKICAgIG49MipuCiAgICBwcm...</td>\n",
       "      <td>0</td>\n",
       "      <td>-1</td>\n",
       "      <td>114950</td>\n",
       "      <td>2019-09-12 01:38:36</td>\n",
       "    </tr>\n",
       "    <tr>\n",
       "      <th>4630</th>\n",
       "      <td>10134</td>\n",
       "      <td>2802162</td>\n",
       "      <td>47</td>\n",
       "      <td>ZGVmIHN1bV9kaWYoYSwgYik6CiAgICBwcmludChhLCIrIi...</td>\n",
       "      <td>1</td>\n",
       "      <td>-1</td>\n",
       "      <td>108650</td>\n",
       "      <td>2018-09-14 10:36:59</td>\n",
       "    </tr>\n",
       "  </tbody>\n",
       "</table>\n",
       "</div>"
      ],
      "text/plain": [
       "          id      user  item  \\\n",
       "9354   17718   3456977    17   \n",
       "14470  29463   4306827    34   \n",
       "19527  38069   4152177    41   \n",
       "2304    6491    359254    54   \n",
       "42681  63966    791389    35   \n",
       "17795  34846   5067965    50   \n",
       "41060  62345  13309857    64   \n",
       "22177  42058   7752559    51   \n",
       "25182  46467  11045528    34   \n",
       "4630   10134   2802162    47   \n",
       "\n",
       "                                                  answer  correct  moves  \\\n",
       "9354   ZGVmIGZpdmVfbXVsdGlwbGVzKDUsIDI1LCAzNSk6CiAgIC...        0     -1   \n",
       "14470  ZGVmIG11bHRpcGxlcyhuKToKICAgIHByaW50KCJEdm9qbm...        1     -1   \n",
       "19527  ZGVmIG5pY2UoYSwgYik6CmlmIGEgJSAyID09IDA6CiAgIC...        0     -1   \n",
       "2304   ZGVmIGNvbXBhcmUoYSwgYik6CiAgICBwcmludCgiNyBqZS...        0     -1   \n",
       "42681  ZGVmIHNlcXVlbmNlcyhuKToKICAgIGZvciBpIGluIHJhbm...        1     -1   \n",
       "17795  ZGVmIGNyb3NzKHopOgogICAgcHJpbnQoeiwgIiAiLCB6KQ...        1     -1   \n",
       "41060  ZGVmIG1hZ2ljX3Rlc3QodGVhcnMsIGhvcm5zLCB0YWlscy...        1     -1   \n",
       "22177  ZGVmIGJtaShoZWlnaHQsIHdlaWdodCk6CiAgICBpbmRleD...        0     -1   \n",
       "25182  ZGVmIG11bHRpcGxlcyhuKToKICAgIG49MipuCiAgICBwcm...        0     -1   \n",
       "4630   ZGVmIHN1bV9kaWYoYSwgYik6CiAgICBwcmludChhLCIrIi...        1     -1   \n",
       "\n",
       "       responseTime                 time  \n",
       "9354          95350  2018-12-04 18:46:58  \n",
       "14470         76000  2019-02-07 08:40:18  \n",
       "19527        217850  2019-05-02 20:00:05  \n",
       "2304          60700  2018-05-03 08:47:36  \n",
       "42681        108400  2020-02-19 09:47:07  \n",
       "17795        116200  2019-04-02 17:51:22  \n",
       "41060        135550  2020-01-30 13:43:49  \n",
       "22177       1137150  2019-06-12 12:04:09  \n",
       "25182        114950  2019-09-12 01:38:36  \n",
       "4630         108650  2018-09-14 10:36:59  "
      ]
     },
     "execution_count": 12,
     "metadata": {},
     "output_type": "execute_result"
    },
    {
     "data": {
      "application/javascript": [
       "\n",
       "            setTimeout(function() {\n",
       "                var nbb_cell_id = 12;\n",
       "                var nbb_unformatted_code = \"ip_log_frame.sample(10)\";\n",
       "                var nbb_formatted_code = \"ip_log_frame.sample(10)\";\n",
       "                var nbb_cells = Jupyter.notebook.get_cells();\n",
       "                for (var i = 0; i < nbb_cells.length; ++i) {\n",
       "                    if (nbb_cells[i].input_prompt_number == nbb_cell_id) {\n",
       "                        if (nbb_cells[i].get_text() == nbb_unformatted_code) {\n",
       "                             nbb_cells[i].set_text(nbb_formatted_code);\n",
       "                        }\n",
       "                        break;\n",
       "                    }\n",
       "                }\n",
       "            }, 500);\n",
       "            "
      ],
      "text/plain": [
       "<IPython.core.display.Javascript object>"
      ]
     },
     "metadata": {},
     "output_type": "display_data"
    }
   ],
   "source": [
    "ip_log_frame.sample(10)"
   ]
  },
  {
   "cell_type": "code",
   "execution_count": 13,
   "metadata": {},
   "outputs": [
    {
     "data": {
      "application/javascript": [
       "\n",
       "            setTimeout(function() {\n",
       "                var nbb_cell_id = 13;\n",
       "                var nbb_unformatted_code = \"exc = []\\n\\n\\ndef decode_solution(solution):\\n    try:\\n        return b64decode(solution).decode(\\\"utf-8\\\")\\n    except Exception as e:\\n        exc.append(type(e))\\n        return \\\"\\\"\\n\\n\\ndef decode_ast(solution):\\n    try:\\n        ast.parse(solution)\\n        return True\\n    except Exception:\\n        return False\";\n",
       "                var nbb_formatted_code = \"exc = []\\n\\n\\ndef decode_solution(solution):\\n    try:\\n        return b64decode(solution).decode(\\\"utf-8\\\")\\n    except Exception as e:\\n        exc.append(type(e))\\n        return \\\"\\\"\\n\\n\\ndef decode_ast(solution):\\n    try:\\n        ast.parse(solution)\\n        return True\\n    except Exception:\\n        return False\";\n",
       "                var nbb_cells = Jupyter.notebook.get_cells();\n",
       "                for (var i = 0; i < nbb_cells.length; ++i) {\n",
       "                    if (nbb_cells[i].input_prompt_number == nbb_cell_id) {\n",
       "                        if (nbb_cells[i].get_text() == nbb_unformatted_code) {\n",
       "                             nbb_cells[i].set_text(nbb_formatted_code);\n",
       "                        }\n",
       "                        break;\n",
       "                    }\n",
       "                }\n",
       "            }, 500);\n",
       "            "
      ],
      "text/plain": [
       "<IPython.core.display.Javascript object>"
      ]
     },
     "metadata": {},
     "output_type": "display_data"
    }
   ],
   "source": [
    "exc = []\n",
    "\n",
    "\n",
    "def decode_solution(solution):\n",
    "    try:\n",
    "        return b64decode(solution).decode(\"utf-8\")\n",
    "    except Exception as e:\n",
    "        exc.append(type(e))\n",
    "        return \"\"\n",
    "\n",
    "\n",
    "def decode_ast(solution):\n",
    "    try:\n",
    "        ast.parse(solution)\n",
    "        return True\n",
    "    except Exception:\n",
    "        return False"
   ]
  },
  {
   "cell_type": "code",
   "execution_count": 14,
   "metadata": {},
   "outputs": [
    {
     "data": {
      "application/javascript": [
       "\n",
       "            setTimeout(function() {\n",
       "                var nbb_cell_id = 14;\n",
       "                var nbb_unformatted_code = \"ip_log_frame[\\\"dec_answer\\\"] = ip_log_frame.answer.apply(decode_solution)\";\n",
       "                var nbb_formatted_code = \"ip_log_frame[\\\"dec_answer\\\"] = ip_log_frame.answer.apply(decode_solution)\";\n",
       "                var nbb_cells = Jupyter.notebook.get_cells();\n",
       "                for (var i = 0; i < nbb_cells.length; ++i) {\n",
       "                    if (nbb_cells[i].input_prompt_number == nbb_cell_id) {\n",
       "                        if (nbb_cells[i].get_text() == nbb_unformatted_code) {\n",
       "                             nbb_cells[i].set_text(nbb_formatted_code);\n",
       "                        }\n",
       "                        break;\n",
       "                    }\n",
       "                }\n",
       "            }, 500);\n",
       "            "
      ],
      "text/plain": [
       "<IPython.core.display.Javascript object>"
      ]
     },
     "metadata": {},
     "output_type": "display_data"
    }
   ],
   "source": [
    "ip_log_frame[\"dec_answer\"] = ip_log_frame.answer.apply(decode_solution)"
   ]
  },
  {
   "cell_type": "code",
   "execution_count": 15,
   "metadata": {},
   "outputs": [
    {
     "data": {
      "text/plain": [
       "Counter({binascii.Error: 1330,\n",
       "         UnicodeDecodeError: 290,\n",
       "         ValueError: 8,\n",
       "         TypeError: 28})"
      ]
     },
     "execution_count": 15,
     "metadata": {},
     "output_type": "execute_result"
    },
    {
     "data": {
      "application/javascript": [
       "\n",
       "            setTimeout(function() {\n",
       "                var nbb_cell_id = 15;\n",
       "                var nbb_unformatted_code = \"Counter(exc)\";\n",
       "                var nbb_formatted_code = \"Counter(exc)\";\n",
       "                var nbb_cells = Jupyter.notebook.get_cells();\n",
       "                for (var i = 0; i < nbb_cells.length; ++i) {\n",
       "                    if (nbb_cells[i].input_prompt_number == nbb_cell_id) {\n",
       "                        if (nbb_cells[i].get_text() == nbb_unformatted_code) {\n",
       "                             nbb_cells[i].set_text(nbb_formatted_code);\n",
       "                        }\n",
       "                        break;\n",
       "                    }\n",
       "                }\n",
       "            }, 500);\n",
       "            "
      ],
      "text/plain": [
       "<IPython.core.display.Javascript object>"
      ]
     },
     "metadata": {},
     "output_type": "display_data"
    }
   ],
   "source": [
    "Counter(exc)"
   ]
  },
  {
   "cell_type": "code",
   "execution_count": 16,
   "metadata": {},
   "outputs": [
    {
     "data": {
      "application/javascript": [
       "\n",
       "            setTimeout(function() {\n",
       "                var nbb_cell_id = 16;\n",
       "                var nbb_unformatted_code = \"dec_ans_frame = ip_log_frame[ip_log_frame.dec_answer != \\\"\\\"]\";\n",
       "                var nbb_formatted_code = \"dec_ans_frame = ip_log_frame[ip_log_frame.dec_answer != \\\"\\\"]\";\n",
       "                var nbb_cells = Jupyter.notebook.get_cells();\n",
       "                for (var i = 0; i < nbb_cells.length; ++i) {\n",
       "                    if (nbb_cells[i].input_prompt_number == nbb_cell_id) {\n",
       "                        if (nbb_cells[i].get_text() == nbb_unformatted_code) {\n",
       "                             nbb_cells[i].set_text(nbb_formatted_code);\n",
       "                        }\n",
       "                        break;\n",
       "                    }\n",
       "                }\n",
       "            }, 500);\n",
       "            "
      ],
      "text/plain": [
       "<IPython.core.display.Javascript object>"
      ]
     },
     "metadata": {},
     "output_type": "display_data"
    }
   ],
   "source": [
    "dec_ans_frame = ip_log_frame[ip_log_frame.dec_answer != \"\"]"
   ]
  },
  {
   "cell_type": "code",
   "execution_count": 17,
   "metadata": {},
   "outputs": [
    {
     "data": {
      "text/html": [
       "<div>\n",
       "<style scoped>\n",
       "    .dataframe tbody tr th:only-of-type {\n",
       "        vertical-align: middle;\n",
       "    }\n",
       "\n",
       "    .dataframe tbody tr th {\n",
       "        vertical-align: top;\n",
       "    }\n",
       "\n",
       "    .dataframe thead th {\n",
       "        text-align: right;\n",
       "    }\n",
       "</style>\n",
       "<table border=\"1\" class=\"dataframe\">\n",
       "  <thead>\n",
       "    <tr style=\"text-align: right;\">\n",
       "      <th></th>\n",
       "      <th>id</th>\n",
       "      <th>user</th>\n",
       "      <th>item</th>\n",
       "      <th>answer</th>\n",
       "      <th>correct</th>\n",
       "      <th>moves</th>\n",
       "      <th>responseTime</th>\n",
       "      <th>time</th>\n",
       "      <th>dec_answer</th>\n",
       "    </tr>\n",
       "  </thead>\n",
       "  <tbody>\n",
       "    <tr>\n",
       "      <th>462</th>\n",
       "      <td>2132</td>\n",
       "      <td>12</td>\n",
       "      <td>42</td>\n",
       "      <td>ZGVmIGhhcHB5KGEsIGIsIGMpOmJyZWFrICAgIHJldHVybi...</td>\n",
       "      <td>0</td>\n",
       "      <td>-1</td>\n",
       "      <td>14150</td>\n",
       "      <td>2017-12-08 15:04:25</td>\n",
       "      <td>def happy(a, b, c):break    return (a &lt; 3 or b...</td>\n",
       "    </tr>\n",
       "    <tr>\n",
       "      <th>463</th>\n",
       "      <td>2133</td>\n",
       "      <td>12</td>\n",
       "      <td>42</td>\n",
       "      <td>ZGVmIGhhcHB5KGEsIGIsIGMpOmJyZWFrICAgIHJldHVybi...</td>\n",
       "      <td>1</td>\n",
       "      <td>-1</td>\n",
       "      <td>21200</td>\n",
       "      <td>2017-12-08 15:04:32</td>\n",
       "      <td>def happy(a, b, c):break    return (a &lt; 3 or b...</td>\n",
       "    </tr>\n",
       "    <tr>\n",
       "      <th>467</th>\n",
       "      <td>2155</td>\n",
       "      <td>1549050</td>\n",
       "      <td>42</td>\n",
       "      <td>ZGVmIGhhcHB5KGEsIGIsIGMpOmJyZWFrICAgIHJldHVybi...</td>\n",
       "      <td>0</td>\n",
       "      <td>-1</td>\n",
       "      <td>21400</td>\n",
       "      <td>2017-12-08 18:49:40</td>\n",
       "      <td>def happy(a, b, c):break    return Falsebreak</td>\n",
       "    </tr>\n",
       "    <tr>\n",
       "      <th>468</th>\n",
       "      <td>2156</td>\n",
       "      <td>1549050</td>\n",
       "      <td>42</td>\n",
       "      <td>ZGVmIGhhcHB5KGEsIGIsIGMpOmJyZWFrICAgIHJldHVybi...</td>\n",
       "      <td>0</td>\n",
       "      <td>-1</td>\n",
       "      <td>21400</td>\n",
       "      <td>2017-12-08 18:49:40</td>\n",
       "      <td>def happy(a, b, c):break    return Falsebreak</td>\n",
       "    </tr>\n",
       "    <tr>\n",
       "      <th>469</th>\n",
       "      <td>2157</td>\n",
       "      <td>1549050</td>\n",
       "      <td>42</td>\n",
       "      <td>ZGVmIGhhcHB5KGEsIGIsIGMpOmJyZWFrICAgIHJldHVybi...</td>\n",
       "      <td>0</td>\n",
       "      <td>-1</td>\n",
       "      <td>24750</td>\n",
       "      <td>2017-12-08 18:49:44</td>\n",
       "      <td>def happy(a, b, c):break    return Falsebreak</td>\n",
       "    </tr>\n",
       "    <tr>\n",
       "      <th>...</th>\n",
       "      <td>...</td>\n",
       "      <td>...</td>\n",
       "      <td>...</td>\n",
       "      <td>...</td>\n",
       "      <td>...</td>\n",
       "      <td>...</td>\n",
       "      <td>...</td>\n",
       "      <td>...</td>\n",
       "      <td>...</td>\n",
       "    </tr>\n",
       "    <tr>\n",
       "      <th>43133</th>\n",
       "      <td>64418</td>\n",
       "      <td>12191073</td>\n",
       "      <td>42</td>\n",
       "      <td>YSA9IDEKYiA9IDIKYyA9IDMKCgpkZWYgaGFwcHkoYSA9ID...</td>\n",
       "      <td>0</td>\n",
       "      <td>-1</td>\n",
       "      <td>282950</td>\n",
       "      <td>2020-02-22 21:17:03</td>\n",
       "      <td>a = 1\\nb = 2\\nc = 3\\n\\n\\ndef happy(a = 1, b = ...</td>\n",
       "    </tr>\n",
       "    <tr>\n",
       "      <th>43134</th>\n",
       "      <td>64419</td>\n",
       "      <td>12191073</td>\n",
       "      <td>42</td>\n",
       "      <td>ZGVmIGhhcHB5KGEsIGIsIGMpOgoKaWYgYSA9PSAxOgogIC...</td>\n",
       "      <td>0</td>\n",
       "      <td>-1</td>\n",
       "      <td>376200</td>\n",
       "      <td>2020-02-22 21:41:04</td>\n",
       "      <td>def happy(a, b, c):\\n\\nif a == 1:\\n    print('...</td>\n",
       "    </tr>\n",
       "    <tr>\n",
       "      <th>43137</th>\n",
       "      <td>64422</td>\n",
       "      <td>13636225</td>\n",
       "      <td>42</td>\n",
       "      <td>ZGVmIGhhcHB5KGEsIGIsIGMpOgogICAgaWYgYTwzIG9yIG...</td>\n",
       "      <td>1</td>\n",
       "      <td>-1</td>\n",
       "      <td>103250</td>\n",
       "      <td>2020-02-22 23:45:24</td>\n",
       "      <td>def happy(a, b, c):\\n    if a&lt;3 or b&lt;3 or c&lt;3:...</td>\n",
       "    </tr>\n",
       "    <tr>\n",
       "      <th>43485</th>\n",
       "      <td>64770</td>\n",
       "      <td>13771923</td>\n",
       "      <td>42</td>\n",
       "      <td>ZGVmIGhhcHB5KGEsIGIsIGMpOgogICAgaWYgYSA8IDM6Ci...</td>\n",
       "      <td>1</td>\n",
       "      <td>-1</td>\n",
       "      <td>267050</td>\n",
       "      <td>2020-02-29 17:03:41</td>\n",
       "      <td>def happy(a, b, c):\\n    if a &lt; 3:\\n        re...</td>\n",
       "    </tr>\n",
       "    <tr>\n",
       "      <th>43563</th>\n",
       "      <td>64848</td>\n",
       "      <td>11012669</td>\n",
       "      <td>42</td>\n",
       "      <td>ZGVmIGhhcHB5KGEsIGIsIGMpOgogICAgaWYgYTwzIG9yIG...</td>\n",
       "      <td>1</td>\n",
       "      <td>-1</td>\n",
       "      <td>97250</td>\n",
       "      <td>2020-03-02 14:10:33</td>\n",
       "      <td>def happy(a, b, c):\\n    if a&lt;3 or b&lt;3 or c&lt;3:...</td>\n",
       "    </tr>\n",
       "  </tbody>\n",
       "</table>\n",
       "<p>1062 rows × 9 columns</p>\n",
       "</div>"
      ],
      "text/plain": [
       "          id      user  item  \\\n",
       "462     2132        12    42   \n",
       "463     2133        12    42   \n",
       "467     2155   1549050    42   \n",
       "468     2156   1549050    42   \n",
       "469     2157   1549050    42   \n",
       "...      ...       ...   ...   \n",
       "43133  64418  12191073    42   \n",
       "43134  64419  12191073    42   \n",
       "43137  64422  13636225    42   \n",
       "43485  64770  13771923    42   \n",
       "43563  64848  11012669    42   \n",
       "\n",
       "                                                  answer  correct  moves  \\\n",
       "462    ZGVmIGhhcHB5KGEsIGIsIGMpOmJyZWFrICAgIHJldHVybi...        0     -1   \n",
       "463    ZGVmIGhhcHB5KGEsIGIsIGMpOmJyZWFrICAgIHJldHVybi...        1     -1   \n",
       "467    ZGVmIGhhcHB5KGEsIGIsIGMpOmJyZWFrICAgIHJldHVybi...        0     -1   \n",
       "468    ZGVmIGhhcHB5KGEsIGIsIGMpOmJyZWFrICAgIHJldHVybi...        0     -1   \n",
       "469    ZGVmIGhhcHB5KGEsIGIsIGMpOmJyZWFrICAgIHJldHVybi...        0     -1   \n",
       "...                                                  ...      ...    ...   \n",
       "43133  YSA9IDEKYiA9IDIKYyA9IDMKCgpkZWYgaGFwcHkoYSA9ID...        0     -1   \n",
       "43134  ZGVmIGhhcHB5KGEsIGIsIGMpOgoKaWYgYSA9PSAxOgogIC...        0     -1   \n",
       "43137  ZGVmIGhhcHB5KGEsIGIsIGMpOgogICAgaWYgYTwzIG9yIG...        1     -1   \n",
       "43485  ZGVmIGhhcHB5KGEsIGIsIGMpOgogICAgaWYgYSA8IDM6Ci...        1     -1   \n",
       "43563  ZGVmIGhhcHB5KGEsIGIsIGMpOgogICAgaWYgYTwzIG9yIG...        1     -1   \n",
       "\n",
       "       responseTime                 time  \\\n",
       "462           14150  2017-12-08 15:04:25   \n",
       "463           21200  2017-12-08 15:04:32   \n",
       "467           21400  2017-12-08 18:49:40   \n",
       "468           21400  2017-12-08 18:49:40   \n",
       "469           24750  2017-12-08 18:49:44   \n",
       "...             ...                  ...   \n",
       "43133        282950  2020-02-22 21:17:03   \n",
       "43134        376200  2020-02-22 21:41:04   \n",
       "43137        103250  2020-02-22 23:45:24   \n",
       "43485        267050  2020-02-29 17:03:41   \n",
       "43563         97250  2020-03-02 14:10:33   \n",
       "\n",
       "                                              dec_answer  \n",
       "462    def happy(a, b, c):break    return (a < 3 or b...  \n",
       "463    def happy(a, b, c):break    return (a < 3 or b...  \n",
       "467        def happy(a, b, c):break    return Falsebreak  \n",
       "468        def happy(a, b, c):break    return Falsebreak  \n",
       "469        def happy(a, b, c):break    return Falsebreak  \n",
       "...                                                  ...  \n",
       "43133  a = 1\\nb = 2\\nc = 3\\n\\n\\ndef happy(a = 1, b = ...  \n",
       "43134  def happy(a, b, c):\\n\\nif a == 1:\\n    print('...  \n",
       "43137  def happy(a, b, c):\\n    if a<3 or b<3 or c<3:...  \n",
       "43485  def happy(a, b, c):\\n    if a < 3:\\n        re...  \n",
       "43563  def happy(a, b, c):\\n    if a<3 or b<3 or c<3:...  \n",
       "\n",
       "[1062 rows x 9 columns]"
      ]
     },
     "execution_count": 17,
     "metadata": {},
     "output_type": "execute_result"
    },
    {
     "data": {
      "application/javascript": [
       "\n",
       "            setTimeout(function() {\n",
       "                var nbb_cell_id = 17;\n",
       "                var nbb_unformatted_code = \"dec_ans_frame[(dec_ans_frame.item == 42)]\";\n",
       "                var nbb_formatted_code = \"dec_ans_frame[(dec_ans_frame.item == 42)]\";\n",
       "                var nbb_cells = Jupyter.notebook.get_cells();\n",
       "                for (var i = 0; i < nbb_cells.length; ++i) {\n",
       "                    if (nbb_cells[i].input_prompt_number == nbb_cell_id) {\n",
       "                        if (nbb_cells[i].get_text() == nbb_unformatted_code) {\n",
       "                             nbb_cells[i].set_text(nbb_formatted_code);\n",
       "                        }\n",
       "                        break;\n",
       "                    }\n",
       "                }\n",
       "            }, 500);\n",
       "            "
      ],
      "text/plain": [
       "<IPython.core.display.Javascript object>"
      ]
     },
     "metadata": {},
     "output_type": "display_data"
    }
   ],
   "source": [
    "dec_ans_frame[(dec_ans_frame.item == 42)]"
   ]
  },
  {
   "cell_type": "code",
   "execution_count": 18,
   "metadata": {},
   "outputs": [
    {
     "data": {
      "application/javascript": [
       "\n",
       "            setTimeout(function() {\n",
       "                var nbb_cell_id = 18;\n",
       "                var nbb_unformatted_code = \"answers_45 = dec_ans_frame[(dec_ans_frame.item == 45)][[\\\"dec_answer\\\", \\\"correct\\\"]]\";\n",
       "                var nbb_formatted_code = \"answers_45 = dec_ans_frame[(dec_ans_frame.item == 45)][[\\\"dec_answer\\\", \\\"correct\\\"]]\";\n",
       "                var nbb_cells = Jupyter.notebook.get_cells();\n",
       "                for (var i = 0; i < nbb_cells.length; ++i) {\n",
       "                    if (nbb_cells[i].input_prompt_number == nbb_cell_id) {\n",
       "                        if (nbb_cells[i].get_text() == nbb_unformatted_code) {\n",
       "                             nbb_cells[i].set_text(nbb_formatted_code);\n",
       "                        }\n",
       "                        break;\n",
       "                    }\n",
       "                }\n",
       "            }, 500);\n",
       "            "
      ],
      "text/plain": [
       "<IPython.core.display.Javascript object>"
      ]
     },
     "metadata": {},
     "output_type": "display_data"
    }
   ],
   "source": [
    "answers_45 = dec_ans_frame[(dec_ans_frame.item == 45)][[\"dec_answer\", \"correct\"]]"
   ]
  },
  {
   "cell_type": "code",
   "execution_count": 19,
   "metadata": {},
   "outputs": [
    {
     "data": {
      "application/javascript": [
       "\n",
       "            setTimeout(function() {\n",
       "                var nbb_cell_id = 19;\n",
       "                var nbb_unformatted_code = \"parsed_45 = answers_45.dec_answer.apply(decode_ast)\";\n",
       "                var nbb_formatted_code = \"parsed_45 = answers_45.dec_answer.apply(decode_ast)\";\n",
       "                var nbb_cells = Jupyter.notebook.get_cells();\n",
       "                for (var i = 0; i < nbb_cells.length; ++i) {\n",
       "                    if (nbb_cells[i].input_prompt_number == nbb_cell_id) {\n",
       "                        if (nbb_cells[i].get_text() == nbb_unformatted_code) {\n",
       "                             nbb_cells[i].set_text(nbb_formatted_code);\n",
       "                        }\n",
       "                        break;\n",
       "                    }\n",
       "                }\n",
       "            }, 500);\n",
       "            "
      ],
      "text/plain": [
       "<IPython.core.display.Javascript object>"
      ]
     },
     "metadata": {},
     "output_type": "display_data"
    }
   ],
   "source": [
    "parsed_45 = answers_45.dec_answer.apply(decode_ast)"
   ]
  },
  {
   "cell_type": "code",
   "execution_count": 20,
   "metadata": {},
   "outputs": [
    {
     "data": {
      "text/html": [
       "<div>\n",
       "<style scoped>\n",
       "    .dataframe tbody tr th:only-of-type {\n",
       "        vertical-align: middle;\n",
       "    }\n",
       "\n",
       "    .dataframe tbody tr th {\n",
       "        vertical-align: top;\n",
       "    }\n",
       "\n",
       "    .dataframe thead th {\n",
       "        text-align: right;\n",
       "    }\n",
       "</style>\n",
       "<table border=\"1\" class=\"dataframe\">\n",
       "  <thead>\n",
       "    <tr style=\"text-align: right;\">\n",
       "      <th></th>\n",
       "      <th>id</th>\n",
       "      <th>name</th>\n",
       "      <th>instructions</th>\n",
       "      <th>democode</th>\n",
       "      <th>testcode</th>\n",
       "      <th>solution</th>\n",
       "      <th>tests</th>\n",
       "      <th>medianTime</th>\n",
       "      <th>ordering</th>\n",
       "      <th>visible</th>\n",
       "      <th>created</th>\n",
       "    </tr>\n",
       "  </thead>\n",
       "  <tbody>\n",
       "    <tr>\n",
       "      <th>44</th>\n",
       "      <td>45</td>\n",
       "      <td>Výpisy součtů</td>\n",
       "      <td>[[\"html\",\"Napište funkci &lt;b&gt;print_sums(n)&lt;/b&gt;,...</td>\n",
       "      <td>[[\"python64\",\"ZGVmIHByaW50X3N1bXMobik6CiAgICBm...</td>\n",
       "      <td>[[\"python64\",\"cHJpbnRfc3VtcygxMykgICAgICAgIAo=\"]]</td>\n",
       "      <td>[[\"python64\",\"ZGVmIHByaW50X3N1bXMobik6CiAgICBm...</td>\n",
       "      <td>[[\"python64\",\"cHJpbnRfc3VtcygxMCkK\"],[\"python6...</td>\n",
       "      <td>176162</td>\n",
       "      <td>2</td>\n",
       "      <td>1</td>\n",
       "      <td>2017-12-08 15:31:39</td>\n",
       "    </tr>\n",
       "  </tbody>\n",
       "</table>\n",
       "</div>"
      ],
      "text/plain": [
       "    id           name                                       instructions  \\\n",
       "44  45  Výpisy součtů  [[\"html\",\"Napište funkci <b>print_sums(n)</b>,...   \n",
       "\n",
       "                                             democode  \\\n",
       "44  [[\"python64\",\"ZGVmIHByaW50X3N1bXMobik6CiAgICBm...   \n",
       "\n",
       "                                             testcode  \\\n",
       "44  [[\"python64\",\"cHJpbnRfc3VtcygxMykgICAgICAgIAo=\"]]   \n",
       "\n",
       "                                             solution  \\\n",
       "44  [[\"python64\",\"ZGVmIHByaW50X3N1bXMobik6CiAgICBm...   \n",
       "\n",
       "                                                tests  medianTime  ordering  \\\n",
       "44  [[\"python64\",\"cHJpbnRfc3VtcygxMCkK\"],[\"python6...      176162         2   \n",
       "\n",
       "    visible              created  \n",
       "44        1  2017-12-08 15:31:39  "
      ]
     },
     "execution_count": 20,
     "metadata": {},
     "output_type": "execute_result"
    },
    {
     "data": {
      "application/javascript": [
       "\n",
       "            setTimeout(function() {\n",
       "                var nbb_cell_id = 20;\n",
       "                var nbb_unformatted_code = \"ip_item_frame[ip_item_frame.id == 45]\";\n",
       "                var nbb_formatted_code = \"ip_item_frame[ip_item_frame.id == 45]\";\n",
       "                var nbb_cells = Jupyter.notebook.get_cells();\n",
       "                for (var i = 0; i < nbb_cells.length; ++i) {\n",
       "                    if (nbb_cells[i].input_prompt_number == nbb_cell_id) {\n",
       "                        if (nbb_cells[i].get_text() == nbb_unformatted_code) {\n",
       "                             nbb_cells[i].set_text(nbb_formatted_code);\n",
       "                        }\n",
       "                        break;\n",
       "                    }\n",
       "                }\n",
       "            }, 500);\n",
       "            "
      ],
      "text/plain": [
       "<IPython.core.display.Javascript object>"
      ]
     },
     "metadata": {},
     "output_type": "display_data"
    }
   ],
   "source": [
    "ip_item_frame[ip_item_frame.id == 45]"
   ]
  },
  {
   "cell_type": "code",
   "execution_count": 21,
   "metadata": {},
   "outputs": [
    {
     "data": {
      "text/plain": [
       "'def print_sums(n):\\n    for i in range(1, n):\\n        print(n, \"=\", i, \"+\", n-i)\\n'"
      ]
     },
     "execution_count": 21,
     "metadata": {},
     "output_type": "execute_result"
    },
    {
     "data": {
      "application/javascript": [
       "\n",
       "            setTimeout(function() {\n",
       "                var nbb_cell_id = 21;\n",
       "                var nbb_unformatted_code = \"l_solution_45 = eval(ip_item_frame.set_index(\\\"id\\\").loc[45].solution)\\nsolution_45 = decode_solution(l_solution_45[0][1])\\nsolution_45\";\n",
       "                var nbb_formatted_code = \"l_solution_45 = eval(ip_item_frame.set_index(\\\"id\\\").loc[45].solution)\\nsolution_45 = decode_solution(l_solution_45[0][1])\\nsolution_45\";\n",
       "                var nbb_cells = Jupyter.notebook.get_cells();\n",
       "                for (var i = 0; i < nbb_cells.length; ++i) {\n",
       "                    if (nbb_cells[i].input_prompt_number == nbb_cell_id) {\n",
       "                        if (nbb_cells[i].get_text() == nbb_unformatted_code) {\n",
       "                             nbb_cells[i].set_text(nbb_formatted_code);\n",
       "                        }\n",
       "                        break;\n",
       "                    }\n",
       "                }\n",
       "            }, 500);\n",
       "            "
      ],
      "text/plain": [
       "<IPython.core.display.Javascript object>"
      ]
     },
     "metadata": {},
     "output_type": "display_data"
    }
   ],
   "source": [
    "l_solution_45 = eval(ip_item_frame.set_index(\"id\").loc[45].solution)\n",
    "solution_45 = decode_solution(l_solution_45[0][1])\n",
    "solution_45"
   ]
  },
  {
   "cell_type": "code",
   "execution_count": 22,
   "metadata": {},
   "outputs": [
    {
     "data": {
      "application/javascript": [
       "\n",
       "            setTimeout(function() {\n",
       "                var nbb_cell_id = 22;\n",
       "                var nbb_unformatted_code = \"import pycode_similar\";\n",
       "                var nbb_formatted_code = \"import pycode_similar\";\n",
       "                var nbb_cells = Jupyter.notebook.get_cells();\n",
       "                for (var i = 0; i < nbb_cells.length; ++i) {\n",
       "                    if (nbb_cells[i].input_prompt_number == nbb_cell_id) {\n",
       "                        if (nbb_cells[i].get_text() == nbb_unformatted_code) {\n",
       "                             nbb_cells[i].set_text(nbb_formatted_code);\n",
       "                        }\n",
       "                        break;\n",
       "                    }\n",
       "                }\n",
       "            }, 500);\n",
       "            "
      ],
      "text/plain": [
       "<IPython.core.display.Javascript object>"
      ]
     },
     "metadata": {},
     "output_type": "display_data"
    }
   ],
   "source": [
    "import pycode_similar"
   ]
  },
  {
   "cell_type": "code",
   "execution_count": 23,
   "metadata": {},
   "outputs": [
    {
     "data": {
      "application/javascript": [
       "\n",
       "            setTimeout(function() {\n",
       "                var nbb_cell_id = 23;\n",
       "                var nbb_unformatted_code = \"smilarity = pycode_similar.detect(\\n    [solution_45, *answers_45.dec_answer[parsed_45].values],\\n)\";\n",
       "                var nbb_formatted_code = \"smilarity = pycode_similar.detect(\\n    [solution_45, *answers_45.dec_answer[parsed_45].values],\\n)\";\n",
       "                var nbb_cells = Jupyter.notebook.get_cells();\n",
       "                for (var i = 0; i < nbb_cells.length; ++i) {\n",
       "                    if (nbb_cells[i].input_prompt_number == nbb_cell_id) {\n",
       "                        if (nbb_cells[i].get_text() == nbb_unformatted_code) {\n",
       "                             nbb_cells[i].set_text(nbb_formatted_code);\n",
       "                        }\n",
       "                        break;\n",
       "                    }\n",
       "                }\n",
       "            }, 500);\n",
       "            "
      ],
      "text/plain": [
       "<IPython.core.display.Javascript object>"
      ]
     },
     "metadata": {},
     "output_type": "display_data"
    }
   ],
   "source": [
    "smilarity = pycode_similar.detect(\n",
    "    [solution_45, *answers_45.dec_answer[parsed_45].values],\n",
    ")"
   ]
  },
  {
   "cell_type": "code",
   "execution_count": 24,
   "metadata": {},
   "outputs": [
    {
     "data": {
      "application/javascript": [
       "\n",
       "            setTimeout(function() {\n",
       "                var nbb_cell_id = 24;\n",
       "                var nbb_unformatted_code = \"sim_perc = np.array([x[1][0].plagiarism_percent for x in smilarity])\";\n",
       "                var nbb_formatted_code = \"sim_perc = np.array([x[1][0].plagiarism_percent for x in smilarity])\";\n",
       "                var nbb_cells = Jupyter.notebook.get_cells();\n",
       "                for (var i = 0; i < nbb_cells.length; ++i) {\n",
       "                    if (nbb_cells[i].input_prompt_number == nbb_cell_id) {\n",
       "                        if (nbb_cells[i].get_text() == nbb_unformatted_code) {\n",
       "                             nbb_cells[i].set_text(nbb_formatted_code);\n",
       "                        }\n",
       "                        break;\n",
       "                    }\n",
       "                }\n",
       "            }, 500);\n",
       "            "
      ],
      "text/plain": [
       "<IPython.core.display.Javascript object>"
      ]
     },
     "metadata": {},
     "output_type": "display_data"
    }
   ],
   "source": [
    "sim_perc = np.array([x[1][0].plagiarism_percent for x in smilarity])"
   ]
  },
  {
   "cell_type": "code",
   "execution_count": 25,
   "metadata": {},
   "outputs": [
    {
     "data": {
      "application/javascript": [
       "\n",
       "            setTimeout(function() {\n",
       "                var nbb_cell_id = 25;\n",
       "                var nbb_unformatted_code = \"from sklearn.decomposition import PCA\\nfrom sklearn.preprocessing import StandardScaler\";\n",
       "                var nbb_formatted_code = \"from sklearn.decomposition import PCA\\nfrom sklearn.preprocessing import StandardScaler\";\n",
       "                var nbb_cells = Jupyter.notebook.get_cells();\n",
       "                for (var i = 0; i < nbb_cells.length; ++i) {\n",
       "                    if (nbb_cells[i].input_prompt_number == nbb_cell_id) {\n",
       "                        if (nbb_cells[i].get_text() == nbb_unformatted_code) {\n",
       "                             nbb_cells[i].set_text(nbb_formatted_code);\n",
       "                        }\n",
       "                        break;\n",
       "                    }\n",
       "                }\n",
       "            }, 500);\n",
       "            "
      ],
      "text/plain": [
       "<IPython.core.display.Javascript object>"
      ]
     },
     "metadata": {},
     "output_type": "display_data"
    }
   ],
   "source": [
    "from sklearn.decomposition import PCA\n",
    "from sklearn.preprocessing import StandardScaler"
   ]
  },
  {
   "cell_type": "code",
   "execution_count": 26,
   "metadata": {},
   "outputs": [
    {
     "data": {
      "application/javascript": [
       "\n",
       "            setTimeout(function() {\n",
       "                var nbb_cell_id = 26;\n",
       "                var nbb_unformatted_code = \"tmp_frame = pd.DataFrame(answers_45[parsed_45])\\ntmp_frame[\\\"sim_perc\\\"] = [x[1][0].plagiarism_percent for x in smilarity]\\ntmp_frame[\\\"code_len\\\"] = tmp_frame.dec_answer.apply(len)\";\n",
       "                var nbb_formatted_code = \"tmp_frame = pd.DataFrame(answers_45[parsed_45])\\ntmp_frame[\\\"sim_perc\\\"] = [x[1][0].plagiarism_percent for x in smilarity]\\ntmp_frame[\\\"code_len\\\"] = tmp_frame.dec_answer.apply(len)\";\n",
       "                var nbb_cells = Jupyter.notebook.get_cells();\n",
       "                for (var i = 0; i < nbb_cells.length; ++i) {\n",
       "                    if (nbb_cells[i].input_prompt_number == nbb_cell_id) {\n",
       "                        if (nbb_cells[i].get_text() == nbb_unformatted_code) {\n",
       "                             nbb_cells[i].set_text(nbb_formatted_code);\n",
       "                        }\n",
       "                        break;\n",
       "                    }\n",
       "                }\n",
       "            }, 500);\n",
       "            "
      ],
      "text/plain": [
       "<IPython.core.display.Javascript object>"
      ]
     },
     "metadata": {},
     "output_type": "display_data"
    }
   ],
   "source": [
    "tmp_frame = pd.DataFrame(answers_45[parsed_45])\n",
    "tmp_frame[\"sim_perc\"] = [x[1][0].plagiarism_percent for x in smilarity]\n",
    "tmp_frame[\"code_len\"] = tmp_frame.dec_answer.apply(len)"
   ]
  },
  {
   "cell_type": "code",
   "execution_count": 27,
   "metadata": {},
   "outputs": [
    {
     "data": {
      "application/javascript": [
       "\n",
       "            setTimeout(function() {\n",
       "                var nbb_cell_id = 27;\n",
       "                var nbb_unformatted_code = \"ast_len = []\\nfor x in smilarity:\\n    if x[1][0].info_candidate is not None:\\n        ast_len.append(len(x[1][0].info_candidate.func_ast_lines))\\n    else:\\n        ast_len.append(0)\\ntmp_frame[\\\"ast_len\\\"] = ast_len\";\n",
       "                var nbb_formatted_code = \"ast_len = []\\nfor x in smilarity:\\n    if x[1][0].info_candidate is not None:\\n        ast_len.append(len(x[1][0].info_candidate.func_ast_lines))\\n    else:\\n        ast_len.append(0)\\ntmp_frame[\\\"ast_len\\\"] = ast_len\";\n",
       "                var nbb_cells = Jupyter.notebook.get_cells();\n",
       "                for (var i = 0; i < nbb_cells.length; ++i) {\n",
       "                    if (nbb_cells[i].input_prompt_number == nbb_cell_id) {\n",
       "                        if (nbb_cells[i].get_text() == nbb_unformatted_code) {\n",
       "                             nbb_cells[i].set_text(nbb_formatted_code);\n",
       "                        }\n",
       "                        break;\n",
       "                    }\n",
       "                }\n",
       "            }, 500);\n",
       "            "
      ],
      "text/plain": [
       "<IPython.core.display.Javascript object>"
      ]
     },
     "metadata": {},
     "output_type": "display_data"
    }
   ],
   "source": [
    "ast_len = []\n",
    "for x in smilarity:\n",
    "    if x[1][0].info_candidate is not None:\n",
    "        ast_len.append(len(x[1][0].info_candidate.func_ast_lines))\n",
    "    else:\n",
    "        ast_len.append(0)\n",
    "tmp_frame[\"ast_len\"] = ast_len"
   ]
  },
  {
   "cell_type": "code",
   "execution_count": 28,
   "metadata": {},
   "outputs": [
    {
     "data": {
      "text/html": [
       "<div>\n",
       "<style scoped>\n",
       "    .dataframe tbody tr th:only-of-type {\n",
       "        vertical-align: middle;\n",
       "    }\n",
       "\n",
       "    .dataframe tbody tr th {\n",
       "        vertical-align: top;\n",
       "    }\n",
       "\n",
       "    .dataframe thead th {\n",
       "        text-align: right;\n",
       "    }\n",
       "</style>\n",
       "<table border=\"1\" class=\"dataframe\">\n",
       "  <thead>\n",
       "    <tr style=\"text-align: right;\">\n",
       "      <th></th>\n",
       "      <th>dec_answer</th>\n",
       "      <th>correct</th>\n",
       "      <th>sim_perc</th>\n",
       "      <th>code_len</th>\n",
       "      <th>ast_len</th>\n",
       "    </tr>\n",
       "  </thead>\n",
       "  <tbody>\n",
       "    <tr>\n",
       "      <th>1113</th>\n",
       "      <td>def print_sums(n):\\n    for i in range(n):\\n  ...</td>\n",
       "      <td>0</td>\n",
       "      <td>0.444444</td>\n",
       "      <td>75</td>\n",
       "      <td>5</td>\n",
       "    </tr>\n",
       "    <tr>\n",
       "      <th>1114</th>\n",
       "      <td>def print_sums(n):\\n    for i in range(n):\\n  ...</td>\n",
       "      <td>0</td>\n",
       "      <td>0.444444</td>\n",
       "      <td>79</td>\n",
       "      <td>5</td>\n",
       "    </tr>\n",
       "    <tr>\n",
       "      <th>1115</th>\n",
       "      <td>def print_sums(n):\\n    for i in range(n):\\n  ...</td>\n",
       "      <td>0</td>\n",
       "      <td>0.444444</td>\n",
       "      <td>79</td>\n",
       "      <td>5</td>\n",
       "    </tr>\n",
       "    <tr>\n",
       "      <th>1142</th>\n",
       "      <td>def print_sums(n):\\n    for i in range(1,n):\\n...</td>\n",
       "      <td>1</td>\n",
       "      <td>1.000000</td>\n",
       "      <td>81</td>\n",
       "      <td>9</td>\n",
       "    </tr>\n",
       "    <tr>\n",
       "      <th>1205</th>\n",
       "      <td>def print_sums(n):\\n    for i in range(n):\\n  ...</td>\n",
       "      <td>1</td>\n",
       "      <td>0.777778</td>\n",
       "      <td>139</td>\n",
       "      <td>11</td>\n",
       "    </tr>\n",
       "    <tr>\n",
       "      <th>...</th>\n",
       "      <td>...</td>\n",
       "      <td>...</td>\n",
       "      <td>...</td>\n",
       "      <td>...</td>\n",
       "      <td>...</td>\n",
       "    </tr>\n",
       "    <tr>\n",
       "      <th>42826</th>\n",
       "      <td>def print_sums(n):\\n    for i in range(1,n):\\n...</td>\n",
       "      <td>1</td>\n",
       "      <td>1.000000</td>\n",
       "      <td>79</td>\n",
       "      <td>9</td>\n",
       "    </tr>\n",
       "    <tr>\n",
       "      <th>43111</th>\n",
       "      <td>def print_sums(n):\\n    for i in range(n-1):\\n...</td>\n",
       "      <td>1</td>\n",
       "      <td>0.888889</td>\n",
       "      <td>85</td>\n",
       "      <td>9</td>\n",
       "    </tr>\n",
       "    <tr>\n",
       "      <th>43257</th>\n",
       "      <td>def print_sums(n):\\n    for i in range(1, n):\\...</td>\n",
       "      <td>1</td>\n",
       "      <td>1.000000</td>\n",
       "      <td>82</td>\n",
       "      <td>9</td>\n",
       "    </tr>\n",
       "    <tr>\n",
       "      <th>43260</th>\n",
       "      <td>def print_sums(n):\\n    for i in range(1,n):\\n...</td>\n",
       "      <td>1</td>\n",
       "      <td>1.000000</td>\n",
       "      <td>79</td>\n",
       "      <td>9</td>\n",
       "    </tr>\n",
       "    <tr>\n",
       "      <th>43521</th>\n",
       "      <td>def print_sums(n):\\n    for i in range(1,n,1):...</td>\n",
       "      <td>1</td>\n",
       "      <td>0.888889</td>\n",
       "      <td>81</td>\n",
       "      <td>9</td>\n",
       "    </tr>\n",
       "  </tbody>\n",
       "</table>\n",
       "<p>683 rows × 5 columns</p>\n",
       "</div>"
      ],
      "text/plain": [
       "                                              dec_answer  correct  sim_perc  \\\n",
       "1113   def print_sums(n):\\n    for i in range(n):\\n  ...        0  0.444444   \n",
       "1114   def print_sums(n):\\n    for i in range(n):\\n  ...        0  0.444444   \n",
       "1115   def print_sums(n):\\n    for i in range(n):\\n  ...        0  0.444444   \n",
       "1142   def print_sums(n):\\n    for i in range(1,n):\\n...        1  1.000000   \n",
       "1205   def print_sums(n):\\n    for i in range(n):\\n  ...        1  0.777778   \n",
       "...                                                  ...      ...       ...   \n",
       "42826  def print_sums(n):\\n    for i in range(1,n):\\n...        1  1.000000   \n",
       "43111  def print_sums(n):\\n    for i in range(n-1):\\n...        1  0.888889   \n",
       "43257  def print_sums(n):\\n    for i in range(1, n):\\...        1  1.000000   \n",
       "43260  def print_sums(n):\\n    for i in range(1,n):\\n...        1  1.000000   \n",
       "43521  def print_sums(n):\\n    for i in range(1,n,1):...        1  0.888889   \n",
       "\n",
       "       code_len  ast_len  \n",
       "1113         75        5  \n",
       "1114         79        5  \n",
       "1115         79        5  \n",
       "1142         81        9  \n",
       "1205        139       11  \n",
       "...         ...      ...  \n",
       "42826        79        9  \n",
       "43111        85        9  \n",
       "43257        82        9  \n",
       "43260        79        9  \n",
       "43521        81        9  \n",
       "\n",
       "[683 rows x 5 columns]"
      ]
     },
     "execution_count": 28,
     "metadata": {},
     "output_type": "execute_result"
    },
    {
     "data": {
      "application/javascript": [
       "\n",
       "            setTimeout(function() {\n",
       "                var nbb_cell_id = 28;\n",
       "                var nbb_unformatted_code = \"tmp_frame\";\n",
       "                var nbb_formatted_code = \"tmp_frame\";\n",
       "                var nbb_cells = Jupyter.notebook.get_cells();\n",
       "                for (var i = 0; i < nbb_cells.length; ++i) {\n",
       "                    if (nbb_cells[i].input_prompt_number == nbb_cell_id) {\n",
       "                        if (nbb_cells[i].get_text() == nbb_unformatted_code) {\n",
       "                             nbb_cells[i].set_text(nbb_formatted_code);\n",
       "                        }\n",
       "                        break;\n",
       "                    }\n",
       "                }\n",
       "            }, 500);\n",
       "            "
      ],
      "text/plain": [
       "<IPython.core.display.Javascript object>"
      ]
     },
     "metadata": {},
     "output_type": "display_data"
    }
   ],
   "source": [
    "tmp_frame"
   ]
  },
  {
   "cell_type": "code",
   "execution_count": 29,
   "metadata": {},
   "outputs": [
    {
     "data": {
      "application/javascript": [
       "\n",
       "            setTimeout(function() {\n",
       "                var nbb_cell_id = 29;\n",
       "                var nbb_unformatted_code = \"scaler = StandardScaler()\\npca = PCA()\";\n",
       "                var nbb_formatted_code = \"scaler = StandardScaler()\\npca = PCA()\";\n",
       "                var nbb_cells = Jupyter.notebook.get_cells();\n",
       "                for (var i = 0; i < nbb_cells.length; ++i) {\n",
       "                    if (nbb_cells[i].input_prompt_number == nbb_cell_id) {\n",
       "                        if (nbb_cells[i].get_text() == nbb_unformatted_code) {\n",
       "                             nbb_cells[i].set_text(nbb_formatted_code);\n",
       "                        }\n",
       "                        break;\n",
       "                    }\n",
       "                }\n",
       "            }, 500);\n",
       "            "
      ],
      "text/plain": [
       "<IPython.core.display.Javascript object>"
      ]
     },
     "metadata": {},
     "output_type": "display_data"
    }
   ],
   "source": [
    "scaler = StandardScaler()\n",
    "pca = PCA()"
   ]
  },
  {
   "cell_type": "code",
   "execution_count": 30,
   "metadata": {},
   "outputs": [
    {
     "data": {
      "application/javascript": [
       "\n",
       "            setTimeout(function() {\n",
       "                var nbb_cell_id = 30;\n",
       "                var nbb_unformatted_code = \"transformed = pca.fit_transform(\\n    scaler.fit_transform(tmp_frame[[x for x in tmp_frame.columns if x != \\\"dec_answer\\\"]])\\n)\";\n",
       "                var nbb_formatted_code = \"transformed = pca.fit_transform(\\n    scaler.fit_transform(tmp_frame[[x for x in tmp_frame.columns if x != \\\"dec_answer\\\"]])\\n)\";\n",
       "                var nbb_cells = Jupyter.notebook.get_cells();\n",
       "                for (var i = 0; i < nbb_cells.length; ++i) {\n",
       "                    if (nbb_cells[i].input_prompt_number == nbb_cell_id) {\n",
       "                        if (nbb_cells[i].get_text() == nbb_unformatted_code) {\n",
       "                             nbb_cells[i].set_text(nbb_formatted_code);\n",
       "                        }\n",
       "                        break;\n",
       "                    }\n",
       "                }\n",
       "            }, 500);\n",
       "            "
      ],
      "text/plain": [
       "<IPython.core.display.Javascript object>"
      ]
     },
     "metadata": {},
     "output_type": "display_data"
    }
   ],
   "source": [
    "transformed = pca.fit_transform(\n",
    "    scaler.fit_transform(tmp_frame[[x for x in tmp_frame.columns if x != \"dec_answer\"]])\n",
    ")"
   ]
  },
  {
   "cell_type": "code",
   "execution_count": 31,
   "metadata": {},
   "outputs": [
    {
     "data": {
      "image/png": "[encoded data removed]",
      "text/plain": [
       "<Figure size 1440x720 with 2 Axes>"
      ]
     },
     "metadata": {
      "needs_background": "light"
     },
     "output_type": "display_data"
    },
    {
     "data": {
      "application/javascript": [
       "\n",
       "            setTimeout(function() {\n",
       "                var nbb_cell_id = 31;\n",
       "                var nbb_unformatted_code = \"plt.figure(figsize=(20, 10))\\nplt.scatter(*transformed.T[:2], c=tmp_frame.correct)\\nplt.colorbar()\\nplt.show()\";\n",
       "                var nbb_formatted_code = \"plt.figure(figsize=(20, 10))\\nplt.scatter(*transformed.T[:2], c=tmp_frame.correct)\\nplt.colorbar()\\nplt.show()\";\n",
       "                var nbb_cells = Jupyter.notebook.get_cells();\n",
       "                for (var i = 0; i < nbb_cells.length; ++i) {\n",
       "                    if (nbb_cells[i].input_prompt_number == nbb_cell_id) {\n",
       "                        if (nbb_cells[i].get_text() == nbb_unformatted_code) {\n",
       "                             nbb_cells[i].set_text(nbb_formatted_code);\n",
       "                        }\n",
       "                        break;\n",
       "                    }\n",
       "                }\n",
       "            }, 500);\n",
       "            "
      ],
      "text/plain": [
       "<IPython.core.display.Javascript object>"
      ]
     },
     "metadata": {},
     "output_type": "display_data"
    }
   ],
   "source": [
    "plt.figure(figsize=(20, 10))\n",
    "plt.scatter(*transformed.T[:2], c=tmp_frame.correct)\n",
    "plt.colorbar()\n",
    "plt.show()"
   ]
  },
  {
   "cell_type": "code",
   "execution_count": null,
   "metadata": {},
   "outputs": [],
   "source": []
  }
 ],
 "metadata": {
  "kernelspec": {
   "display_name": "IV127 Adaptive Learning Seminar",
   "language": "python",
   "name": "iv127"
  },
  "language_info": {
   "codemirror_mode": {
    "name": "ipython",
    "version": 3
   },
   "file_extension": ".py",
   "mimetype": "text/x-python",
   "name": "python",
   "nbconvert_exporter": "python",
   "pygments_lexer": "ipython3",
   "version": "3.7.5"
  }
 },
 "nbformat": 4,
 "nbformat_minor": 4
}
